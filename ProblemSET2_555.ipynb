{
  "nbformat": 4,
  "nbformat_minor": 0,
  "metadata": {
    "colab": {
      "name": "ProblemSET2_555",
      "provenance": [],
      "collapsed_sections": [],
      "authorship_tag": "ABX9TyOKf0kOU4liwJkZmz51Gr3A",
      "include_colab_link": true
    },
    "kernelspec": {
      "name": "python3",
      "display_name": "Python 3"
    }
  },
  "cells": [
    {
      "cell_type": "markdown",
      "metadata": {
        "id": "view-in-github",
        "colab_type": "text"
      },
      "source": [
        "<a href=\"https://colab.research.google.com/github/parthrjpt/EAS555_Projects/blob/main/ProblemSET2_555.ipynb\" target=\"_parent\"><img src=\"https://colab.research.google.com/assets/colab-badge.svg\" alt=\"Open In Colab\"/></a>"
      ]
    },
    {
      "cell_type": "code",
      "metadata": {
        "id": "kyaCwS_t2S1V"
      },
      "source": [
        "%matplotlib inline\r\n",
        "\r\n",
        "import pandas as pd\r\n",
        "import numpy as np\r\n",
        "import os\r\n",
        "import cv2\r\n",
        "import matplotlib.pyplot as plt\r\n",
        "import random\r\n",
        "import tensorflow as tf"
      ],
      "execution_count": 3,
      "outputs": []
    },
    {
      "cell_type": "code",
      "metadata": {
        "colab": {
          "base_uri": "https://localhost:8080/"
        },
        "id": "eHXWYNpP2HhJ",
        "outputId": "5bbe75a3-c5c9-4875-f32a-ccf8cc4d8b31"
      },
      "source": [
        "from keras.datasets import mnist\r\n",
        "(X_train, y_train), (X_test, y_test) = mnist.load_data()\r\n",
        "print(X_train.shape, y_train.shape,X_test.shape, y_test.shape)"
      ],
      "execution_count": 6,
      "outputs": [
        {
          "output_type": "stream",
          "text": [
            "(60000, 28, 28) (60000,) (10000, 28, 28) (10000,)\n"
          ],
          "name": "stdout"
        }
      ]
    },
    {
      "cell_type": "code",
      "metadata": {
        "id": "pe3IN5N6AWYQ"
      },
      "source": [
        "X_train = X_train.reshape(60000,784)\r\n",
        "X_test = X_test.reshape(10000,784)\r\n",
        "\r\n"
      ],
      "execution_count": 7,
      "outputs": []
    },
    {
      "cell_type": "code",
      "metadata": {
        "id": "cWiKm6G-Om49"
      },
      "source": [
        "from sklearn.model_selection import train_test_split\r\n",
        "from sklearn.decomposition import PCA\r\n",
        "\r\n",
        "from sklearn import preprocessing\r\n",
        "from sklearn.preprocessing import StandardScaler\r\n",
        "\r\n",
        "from sklearn import svm\r\n",
        "from sklearn.model_selection import GridSearchCV\r\n",
        "from sklearn.gaussian_process.kernels import DotProduct\r\n",
        "from sklearn.svm import SVC\r\n",
        "from sklearn.pipeline import Pipeline\r\n",
        "\r\n",
        "X_train_proc = preprocessing.scale(X_train)\r\n",
        "X_test_proc = preprocessing.scale(X_test)\r\n",
        "\r\n",
        "from sklearn.preprocessing import MinMaxScaler\r\n",
        "scaling = MinMaxScaler(feature_range=(-1,1)).fit(X_train_proc)\r\n",
        "X_train_proc = scaling.transform(X_train_proc)\r\n",
        "X_test_proc = scaling.transform(X_test_proc)\r\n",
        "\r\n",
        "pca = PCA(n_components=0.85)\r\n",
        "X_train_proc= pca.fit_transform(X_train_proc)\r\n",
        "X_test_proc = pca.fit_transform(X_test_proc)\r\n",
        "\r\n",
        "#preproc = [('scaler', MinMaxScaler(feature_range=(-1,1)).fit(X_train)),('pca', PCA()),('clf',SVC(kernel='linear'))]\r\n",
        "\r\n",
        "#pipeline = Pipeline(preproc)\r\n",
        "#parameters = {'kernel':('linear', 'rbf'), 'C':[1,10]}\r\n",
        "\r\n",
        "#grid = GridSearchCV(pipeline, param_grid=parameters, cv=5)\r\n",
        "#grid.fit(X_train, y_train)\r\n",
        "\r\n",
        "#Create a svm Classifier\r\n",
        "\r\n",
        "from sklearn.model_selection import cross_validate\r\n",
        "from sklearn.metrics import recall_score\r\n",
        "\r\n",
        "clf = SVC()\r\n",
        "# clf=[clf1, clf2]\r\n",
        "param_grid = {\r\n",
        "      'kernel': ['linear','rbf'],\r\n",
        "      'C': [0.1,0.5],\r\n",
        "      'gamma': [0.0001, 0.001, 0.01]\r\n",
        "    }\r\n",
        "grid=GridSearchCV(clf, param_grid = param_grid , cv = 5, scoring = 'accuracy')\r\n",
        "grid_clf = grid.fit( X_train_proc, y_train)\r\n",
        "\r\n",
        "#scoring = ['precision_macro', 'accuracy_macro']\r\n",
        "#scores = cross_validate(clf, X_train_proc, y_train, scoring=scoring)\r\n",
        "#Train the model using the training sets\r\n",
        "#Based on a single run using svm's predict , the ccuracy was around 90%. The overall run for 60k training data with hyperparamtee tuning is timeconsuming\r\n",
        "# Therfore, this could not be computed.\r\n",
        "#While extremely, slow the final accuracy is around 95.92%"
      ],
      "execution_count": 27,
      "outputs": []
    },
    {
      "cell_type": "code",
      "metadata": {
        "id": "G4ZlBpaBDVV_"
      },
      "source": [
        "y_pred = cross_val_predict(clf, X_test_proc, y_test, cv=3)"
      ],
      "execution_count": 28,
      "outputs": []
    },
    {
      "cell_type": "code",
      "metadata": {
        "colab": {
          "base_uri": "https://localhost:8080/"
        },
        "id": "xVZ_L1es7zQI",
        "outputId": "44045b30-88cb-4292-9a27-59fa035a169a"
      },
      "source": [
        "i=0\r\n",
        "count=0\r\n",
        "while i<10000:\r\n",
        "  if(y_test[i]==y_pred[i]):\r\n",
        "    count=count+1\r\n",
        "  i=i+1\r\n",
        "print(\"Accuracy: \",(count/len(y_test)*100),'%')"
      ],
      "execution_count": 29,
      "outputs": [
        {
          "output_type": "stream",
          "text": [
            "Accuracy:  95.92 %\n"
          ],
          "name": "stdout"
        }
      ]
    },
    {
      "cell_type": "markdown",
      "metadata": {
        "id": "I0ku_zhsTu0O"
      },
      "source": [
        "\\begin{align*}\r\n",
        "\\text{minimize  } \\ w^T.w+C \\sum_{n=1}^{N} \\xi_{i}\r\n",
        "\\\\\r\n",
        "\\text{subject to } y_i.(w^T.x_i) \\geq {1-\\xi_{i}} \\text{ and } \\xi_i \\geq 0 \\text{ for i }=1,...,N\r\n",
        "\\end{align*}"
      ]
    },
    {
      "cell_type": "markdown",
      "metadata": {
        "id": "lGngOHHjT_Xv"
      },
      "source": [
        "\\begin{align}\r\n",
        "{\\mathcal{L}} = \\ {\\overrightarrow{w}}^T\\overrightarrow{w} + C \\sum_{i=1}^N\\xi_i + \\Sigma_i\\alpha_i(y_i.w^Tx_i -1+\\xi_i)\r\n",
        "\\end{align}\r\n",
        "<br><br>\r\n",
        "Lagrange multipliers $\\alpha \\geq 0$<br>\r\n",
        "Inequality constraints $y_i(w^Tx_i) \\geq 1- \\xi_i$ and $\\xi_i \\geq 0$ for $i=1,...,N$\r\n",
        "<br>\r\n",
        "Therefore,\r\n",
        "<br>\r\n",
        "$y_i(w^Tx_i) - 1 \\leq \\xi_i$ \r\n",
        "<br><br>\r\n",
        "\r\n",
        "\\begin{align}\r\n",
        "{\\mathcal{L}} = \\ {\\overrightarrow{w}}^T\\overrightarrow{w} + C \\sum_{i=1}^N\\xi_i - \\Sigma_i\\alpha_i(y_i.w^Tx_i - 1+ \\xi_i)\r\n",
        "\\end{align}\r\n",
        "\r\n",
        "\\begin{align}\r\n",
        "\\\\\r\n",
        "  \\frac{\\partial_{\\mathcal{L}}}{\\partial_w} = w - \\sum_{i=1}^N\\alpha_i y_i x_i = 0 \\implies w = \\sum_{i=1}^N\\alpha_i y_i \\overrightarrow{x_i}\r\n",
        "  \\\\\r\n",
        "  \\frac{\\partial_{\\mathcal{L}}}{\\partial_\\xi} = 0 \\implies C - \\alpha_i= 0\r\n",
        "  \\\\ \r\n",
        "  \\implies 0 \\leq \\alpha_i \\leq C \r\n",
        "  \\end{align}\r\n",
        "\r\n",
        "\\begin{align}\r\n",
        "\\text {Substituting } w = \\sum_{i=1}^N\\alpha_i y_i \\overrightarrow{x_i}, C=\\alpha_i \r\n",
        "\\\\\r\n",
        "\\text { into Lagrange function, we get the dual problem of maximizing: }\r\n",
        "\\end{align}\r\n",
        "\r\n",
        "\\begin{align}\r\n",
        "{\\mathcal{L}} = \\ w^T \\sum_{i=1}^N\\alpha_i y_i \\overrightarrow{x_i} + \\alpha_i\\sum_{i=1}^N\\xi_i + \\sum_{i=1}^N\\alpha_i(y_i.w^Tx_i -1+\\xi_i)\r\n",
        "\\\\= \\ w^T \\sum_{i=1}^N \\alpha_i y_i \\overrightarrow{x_i} + \\alpha_i\\sum_{i=1}^N\\xi_i  +\\sum_{i=1}^N \\alpha_i - w^T \\sum_{i=1}^N \\alpha_i y_i \\overrightarrow{x_i} - \\sum_{i=1}^N \\alpha_i \\xi_i\r\n",
        "\\end{align}\r\n",
        "\r\n",
        "\\begin{align}\r\n",
        "\\\\=\\alpha_i\\sum_{i=1}^N \\xi_i -\\sum_{i=1}^N \\alpha_i  +\\sum_{i=1}^N \\alpha_i \\sum_{i=1}^N \\xi_i \r\n",
        "\\end{align}\r\n"
      ]
    },
    {
      "cell_type": "markdown",
      "metadata": {
        "id": "BfqpKXNpgTH8"
      },
      "source": [
        "\r\n",
        "The primal margin is :\r\n",
        " $\\gamma = \\frac{1}{\\sqrt{w^T.w +C \\sum_{i=1}^{N} \\xi_i }}$\r\n",
        " \r\n",
        "The dual margin is :\r\n",
        "$\\gamma = \\frac{1}{\\sqrt{\\alpha_i + \\sum_{i=1}^{N} \\alpha_i \\sum_{i=1}^{N} \\xi_i }}$\r\n"
      ]
    },
    {
      "cell_type": "markdown",
      "metadata": {
        "id": "4KKOfHcfi_rF"
      },
      "source": [
        "### Benefits of maximizing the margin\r\n",
        "\r\n",
        "* Maximizing the margin regularizes SVM weights that helps avoid overfitting.\r\n",
        "* A large margin would help reduce the functional space.\r\n",
        "* Better generalization of small sample spaces\r\n"
      ]
    },
    {
      "cell_type": "markdown",
      "metadata": {
        "id": "g_qU5FMYjNcH"
      },
      "source": [
        "#### Characterize the support vectors\r\n",
        "\r\n",
        "* Margin boundaries:\r\n",
        "\\begin{align}\r\n",
        "w^Tx + C = 1 \\text{ and } w^Tx + C = -1\r\n",
        "\\end{align}\r\n",
        "\r\n",
        "* Margin region (0 < ξ < 1)"
      ]
    },
    {
      "cell_type": "markdown",
      "metadata": {
        "id": "GCBaRkfzjG7C"
      },
      "source": [
        "#### Benefits of solving the dual problem instead of the primal problem\r\n",
        "\r\n",
        "* Solving the primal problem gives w but there is no insight on αi. \r\n",
        "* Dual representation provides lower bound to primal problem.\r\n",
        "* Dual representation can be solved using Kernel trick"
      ]
    }
  ]
}