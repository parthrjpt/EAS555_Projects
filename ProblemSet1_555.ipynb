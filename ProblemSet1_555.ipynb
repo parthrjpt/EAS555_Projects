{
  "nbformat": 4,
  "nbformat_minor": 0,
  "metadata": {
    "colab": {
      "name": "ProblemSet1_555",
      "provenance": [],
      "collapsed_sections": [],
      "authorship_tag": "ABX9TyOfSEb+KUAsj11YSVtjncSD",
      "include_colab_link": true
    },
    "kernelspec": {
      "name": "python3",
      "display_name": "Python 3"
    },
    "accelerator": "GPU"
  },
  "cells": [
    {
      "cell_type": "markdown",
      "metadata": {
        "id": "view-in-github",
        "colab_type": "text"
      },
      "source": [
        "<a href=\"https://colab.research.google.com/github/parthrjpt/EAS555_Projects/blob/main/ProblemSet1_555.ipynb\" target=\"_parent\"><img src=\"https://colab.research.google.com/assets/colab-badge.svg\" alt=\"Open In Colab\"/></a>"
      ]
    },
    {
      "cell_type": "markdown",
      "metadata": {
        "id": "s2ssQTLbrW3Q"
      },
      "source": [
        "## Initial Setup"
      ]
    },
    {
      "cell_type": "code",
      "metadata": {
        "id": "8tlKDZhqeN-r"
      },
      "source": [
        "%matplotlib inline\r\n",
        "\r\n",
        "import pandas as pd\r\n",
        "import numpy as np\r\n",
        "import os\r\n",
        "import cv2\r\n",
        "import matplotlib.pyplot as plt\r\n",
        "import random\r\n",
        "import tensorflow as tf"
      ],
      "execution_count": 18,
      "outputs": []
    },
    {
      "cell_type": "markdown",
      "metadata": {
        "id": "fbkDpFR_reEa"
      },
      "source": [
        "## MNIST DataSet initialization using keras "
      ]
    },
    {
      "cell_type": "code",
      "metadata": {
        "colab": {
          "base_uri": "https://localhost:8080/"
        },
        "id": "MhAmu1FtovS2",
        "outputId": "3100bcb5-1f39-4cff-89bb-a8fa871d5e6a"
      },
      "source": [
        "from keras.datasets import mnist\r\n",
        "(X, y), (X_test, y_test) = mnist.load_data()\r\n",
        "print(X.shape, y.shape,X_test.shape, y_test.shape)\r\n",
        "\r\n",
        "# !wget http://yann.lecun.com/exdb/mnist/train-images-idx3-ubyte.gz\r\n",
        "# !wget http://yann.lecun.com/exdb/mnist/train-labels-idx1-ubyte.gz\r\n",
        "# !wget http://yann.lecun.com/exdb/mnist/t10k-images-idx3-ubyte.gz\r\n",
        "# !wget http://yann.lecun.com/exdb/mnist/t10k-labels-idx1-ubyte.gz\r\n",
        "\r\n",
        "# !gzip -d train-images-idx3-ubyte.gz\r\n",
        "# !gzip -d train-labels-idx1-ubyte.gz\r\n",
        "# !gzip -d t10k-images-idx3-ubyte.gz\r\n",
        "# !gzip -d t10k-labels-idx1-ubyte.gz"
      ],
      "execution_count": 19,
      "outputs": [
        {
          "output_type": "stream",
          "text": [
            "(60000, 28, 28) (60000,) (10000, 28, 28) (10000,)\n"
          ],
          "name": "stdout"
        }
      ]
    },
    {
      "cell_type": "markdown",
      "metadata": {
        "id": "JOjbAm7drrFK"
      },
      "source": [
        "## Appending training labels to training data\r\n",
        "\r\n",
        "\r\n"
      ]
    },
    {
      "cell_type": "code",
      "metadata": {
        "id": "1ZJ1osnA_kMC"
      },
      "source": [
        "X= X.reshape(60000,28,28)\r\n",
        "\r\n",
        "#train_data = {}\r\n",
        "train_data = []\r\n",
        "i=0\r\n",
        "while i<len(X):\r\n",
        "  train_data.append([y[i], X[i]])\r\n",
        "#    train_data[i]={y[i]: X[i]}\r\n",
        "  i=i+1\r\n",
        "\r\n"
      ],
      "execution_count": 20,
      "outputs": []
    },
    {
      "cell_type": "code",
      "metadata": {
        "id": "GtscFOEmhI2j"
      },
      "source": [
        "digit_data=[]\r\n",
        "digit=1\r\n",
        "\r\n",
        "for ele in train_data:\r\n",
        "  key,value=ele\r\n",
        "  if(key==digit):\r\n",
        "     digit_data.append(value)"
      ],
      "execution_count": 21,
      "outputs": []
    },
    {
      "cell_type": "markdown",
      "metadata": {
        "id": "3Z84m6JhsYyu"
      },
      "source": [
        "## Splitting data by the label & Calculating probability of each class\r\n"
      ]
    },
    {
      "cell_type": "code",
      "metadata": {
        "id": "iFygr1GFCMji"
      },
      "source": [
        "def split_data(data,digit):\r\n",
        "  digit_data=[]\r\n",
        "  i=0\r\n",
        "  j=0\r\n",
        "  for ele in data:\r\n",
        "    key,value=ele\r\n",
        "    if(key==digit):\r\n",
        "        digit_data.append(value)\r\n",
        "        j=j+1\r\n",
        "    i=i+1\r\n",
        "  return np.array(digit_data)\r\n",
        "\r\n",
        "digit_0 =split_data(train_data,0)\r\n",
        "p0=len(digit_0)/60000\r\n",
        "digit_1 =split_data(train_data,1)\r\n",
        "p1=len(digit_1)/60000\r\n",
        "digit_2 =split_data(train_data,2)\r\n",
        "p2=len(digit_2)/60000\r\n",
        "digit_3 =split_data(train_data,3)\r\n",
        "p3=len(digit_3)/60000\r\n",
        "digit_4 =split_data(train_data,4)\r\n",
        "p4=len(digit_4)/60000\r\n",
        "digit_5 =split_data(train_data,5)\r\n",
        "p5=len(digit_5)/60000\r\n",
        "digit_6 =split_data(train_data,6)\r\n",
        "p6=len(digit_6)/60000\r\n",
        "digit_7 =split_data(train_data,7)\r\n",
        "p7=len(digit_7)/60000\r\n",
        "digit_8 =split_data(train_data,8)\r\n",
        "p8=len(digit_8)/60000\r\n",
        "digit_9 =split_data(train_data,9)\r\n",
        "p9=len(digit_9)/60000\r\n",
        "\r\n",
        "probability =[p0,p1,p2,p3,p4,p5,p6,p7,p8,p9]"
      ],
      "execution_count": 22,
      "outputs": []
    },
    {
      "cell_type": "markdown",
      "metadata": {
        "id": "6IHP1ACMsutf"
      },
      "source": [
        "## Defining functions to calculate mean, standard deviation, and covariance for each  class's training data"
      ]
    },
    {
      "cell_type": "code",
      "metadata": {
        "id": "Ip7tv6wqPGnt"
      },
      "source": [
        "def average_image(ele):\r\n",
        "    avi= ele.reshape(ele.shape[0],-1)\r\n",
        "    avi=avi.mean(axis=0)\r\n",
        "    avi=avi.reshape(28,28)\r\n",
        "    return avi\r\n",
        "\r\n",
        "def stdev_image(digitset):\r\n",
        "    sdi= ele.reshape(ele.shape[0],-1)\r\n",
        "    sdi=sdi.std(axis=0)\r\n",
        "    sdi=sdi.reshape(28,28)\r\n",
        "    return sdi\r\n",
        "\r\n",
        "def cov_image(dataset,mean):\r\n",
        "    for ele in dataset:\r\n",
        "      term=ele.reshape(ele.shape[0],-1).flatten()-mean.flatten()\r\n",
        "      img = (term)*np.transpose(term)\r\n",
        "      arr = img/len(dataset)\r\n",
        "    return arr"
      ],
      "execution_count": 23,
      "outputs": []
    },
    {
      "cell_type": "markdown",
      "metadata": {
        "id": "Y84OWznBtCCY"
      },
      "source": [
        "## Task 1: Calculating Mean and Standard Deviation"
      ]
    },
    {
      "cell_type": "code",
      "metadata": {
        "id": "kmbrogQLNZwg"
      },
      "source": [
        "digitdata=[digit_0,digit_1,digit_2,digit_3,digit_4,digit_5,digit_6,digit_7,digit_8,digit_9]\r\n",
        "\r\n",
        "avg=[]\r\n",
        "std=[]\r\n",
        "for ele in digitdata:\r\n",
        "  avg.append(average_image(ele))\r\n",
        "  std.append(stdev_image(ele))"
      ],
      "execution_count": 24,
      "outputs": []
    },
    {
      "cell_type": "markdown",
      "metadata": {
        "id": "OS8xt0jQtL8i"
      },
      "source": [
        "## Task 1: Plotting average and standard deviation based images for each class"
      ]
    },
    {
      "cell_type": "code",
      "metadata": {
        "colab": {
          "base_uri": "https://localhost:8080/",
          "height": 1000
        },
        "id": "eOc6fl66tETO",
        "outputId": "26120472-3abc-4de3-ae8f-4d80d93be025"
      },
      "source": [
        "def plotimg(avgimg,stdimg):\r\n",
        "  fig = plt.figure\r\n",
        "  plt.imshow(avgimg)\r\n",
        "  plt.xlabel(\"average image\")\r\n",
        "  plt.show()\r\n",
        "  plt.imshow(stdimg)\r\n",
        "  plt.xlabel(\"standard deviation image\")\r\n",
        "  plt.show()\r\n",
        "\r\n",
        "i=0  \r\n",
        "while i<10:\r\n",
        "  plotimg(avg[i],std[i])\r\n",
        "  i=i+1"
      ],
      "execution_count": 25,
      "outputs": [
        {
          "output_type": "display_data",
          "data": {
            "image/png": "[encoded data removed]",
            "text/plain": [
              "<Figure size 432x288 with 1 Axes>"
            ]
          },
          "metadata": {
            "tags": [],
            "needs_background": "light"
          }
        },
        {
          "output_type": "display_data",
          "data": {
            "image/png": "[encoded data removed]",
            "text/plain": [
              "<Figure size 432x288 with 1 Axes>"
            ]
          },
          "metadata": {
            "tags": [],
            "needs_background": "light"
          }
        },
        {
          "output_type": "display_data",
          "data": {
            "image/png": "[encoded data removed]",
            "text/plain": [
              "<Figure size 432x288 with 1 Axes>"
            ]
          },
          "metadata": {
            "tags": [],
            "needs_background": "light"
          }
        },
        {
          "output_type": "display_data",
          "data": {
            "image/png": "[encoded data removed]",
            "text/plain": [
              "<Figure size 432x288 with 1 Axes>"
            ]
          },
          "metadata": {
            "tags": [],
            "needs_background": "light"
          }
        },
        {
          "output_type": "display_data",
          "data": {
            "image/png": "[encoded data removed]",
            "text/plain": [
              "<Figure size 432x288 with 1 Axes>"
            ]
          },
          "metadata": {
            "tags": [],
            "needs_background": "light"
          }
        },
        {
          "output_type": "display_data",
          "data": {
            "image/png": "[encoded data removed]",
            "text/plain": [
              "<Figure size 432x288 with 1 Axes>"
            ]
          },
          "metadata": {
            "tags": [],
            "needs_background": "light"
          }
        },
        {
          "output_type": "display_data",
          "data": {
            "image/png": "[encoded data removed]",
            "text/plain": [
              "<Figure size 432x288 with 1 Axes>"
            ]
          },
          "metadata": {
            "tags": [],
            "needs_background": "light"
          }
        },
        {
          "output_type": "display_data",
          "data": {
            "image/png": "[encoded data removed]",
            "text/plain": [
              "<Figure size 432x288 with 1 Axes>"
            ]
          },
          "metadata": {
            "tags": [],
            "needs_background": "light"
          }
        },
        {
          "output_type": "display_data",
          "data": {
            "image/png": "[encoded data removed]",
            "text/plain": [
              "<Figure size 432x288 with 1 Axes>"
            ]
          },
          "metadata": {
            "tags": [],
            "needs_background": "light"
          }
        },
        {
          "output_type": "display_data",
          "data": {
            "image/png": "[encoded data removed]",
            "text/plain": [
              "<Figure size 432x288 with 1 Axes>"
            ]
          },
          "metadata": {
            "tags": [],
            "needs_background": "light"
          }
        },
        {
          "output_type": "display_data",
          "data": {
            "image/png": "[encoded data removed]",
            "text/plain": [
              "<Figure size 432x288 with 1 Axes>"
            ]
          },
          "metadata": {
            "tags": [],
            "needs_background": "light"
          }
        },
        {
          "output_type": "display_data",
          "data": {
            "image/png": "[encoded data removed]",
            "text/plain": [
              "<Figure size 432x288 with 1 Axes>"
            ]
          },
          "metadata": {
            "tags": [],
            "needs_background": "light"
          }
        },
        {
          "output_type": "display_data",
          "data": {
            "image/png": "[encoded data removed]",
            "text/plain": [
              "<Figure size 432x288 with 1 Axes>"
            ]
          },
          "metadata": {
            "tags": [],
            "needs_background": "light"
          }
        },
        {
          "output_type": "display_data",
          "data": {
            "image/png": "[encoded data removed]",
            "text/plain": [
              "<Figure size 432x288 with 1 Axes>"
            ]
          },
          "metadata": {
            "tags": [],
            "needs_background": "light"
          }
        },
        {
          "output_type": "display_data",
          "data": {
            "image/png": "[encoded data removed]",
            "text/plain": [
              "<Figure size 432x288 with 1 Axes>"
            ]
          },
          "metadata": {
            "tags": [],
            "needs_background": "light"
          }
        },
        {
          "output_type": "display_data",
          "data": {
            "image/png": "[encoded data removed]",
            "text/plain": [
              "<Figure size 432x288 with 1 Axes>"
            ]
          },
          "metadata": {
            "tags": [],
            "needs_background": "light"
          }
        },
        {
          "output_type": "display_data",
          "data": {
            "image/png": "[encoded data removed]",
            "text/plain": [
              "<Figure size 432x288 with 1 Axes>"
            ]
          },
          "metadata": {
            "tags": [],
            "needs_background": "light"
          }
        },
        {
          "output_type": "display_data",
          "data": {
            "image/png": "[encoded data removed]",
            "text/plain": [
              "<Figure size 432x288 with 1 Axes>"
            ]
          },
          "metadata": {
            "tags": [],
            "needs_background": "light"
          }
        },
        {
          "output_type": "display_data",
          "data": {
            "image/png": "[encoded data removed]",
            "text/plain": [
              "<Figure size 432x288 with 1 Axes>"
            ]
          },
          "metadata": {
            "tags": [],
            "needs_background": "light"
          }
        },
        {
          "output_type": "display_data",
          "data": {
            "image/png": "[encoded data removed]",
            "text/plain": [
              "<Figure size 432x288 with 1 Axes>"
            ]
          },
          "metadata": {
            "tags": [],
            "needs_background": "light"
          }
        }
      ]
    },
    {
      "cell_type": "markdown",
      "metadata": {
        "id": "L90ooEBUthNX"
      },
      "source": [
        "## Task 2: Calculating Covariance related data for each class"
      ]
    },
    {
      "cell_type": "code",
      "metadata": {
        "id": "_obsgC8ZIgno"
      },
      "source": [
        "#np.linalg.inv(cov0)\r\n",
        "import math as mt\r\n",
        "\r\n",
        "cov=[]\r\n",
        "param=0.385\r\n",
        "i=0\r\n",
        "while i<10:\r\n",
        "  ele=cov_image(digitdata[i],avg[i])\r\n",
        "  cov.append(np.array(ele))\r\n",
        "  #cov.append(np.cov(digitdata[i].reshape(len(digitdata[i]),784).T))\r\n",
        "  i=i+1\r\n"
      ],
      "execution_count": 26,
      "outputs": []
    },
    {
      "cell_type": "markdown",
      "metadata": {
        "id": "X7komZZktq7J"
      },
      "source": [
        "## Task 2: Shifting The covariance matrix by a small parameter to avoid issue for determinant and log calculation\r\n",
        "\r\n",
        "> For this usecase, the value of 0.385 was selected since it seemed to be the best fir after a few trials and errors with multiple values.\r\n",
        "\r\n"
      ]
    },
    {
      "cell_type": "code",
      "metadata": {
        "id": "YxKKB1xoluG7"
      },
      "source": [
        "test_data=X_test.reshape(10000,784,1)\r\n",
        "d=784\r\n",
        "param=0.385\r\n",
        "shiftedcov=[]\r\n",
        "for ele in cov:\r\n",
        "  shiftedcov.append(ele.reshape(784)+(param*np.eye(784)))\r\n",
        "\r\n",
        "invcov=[]\r\n",
        "for ele in shiftedcov:\r\n",
        "  invcov.append(np.linalg.inv(ele))\r\n",
        "\r\n",
        "logdet=[]\r\n",
        "for ele in shiftedcov:\r\n",
        "  logdet.append(np.log(np.linalg.det(ele)))\r\n"
      ],
      "execution_count": 27,
      "outputs": []
    },
    {
      "cell_type": "code",
      "metadata": {
        "id": "IroblCa450mM"
      },
      "source": [
        "# print(np.array(shiftedcov).shape)\r\n",
        "# print(shiftedcov[0])\r\n",
        "# np.array(invcov).shape\r\n",
        "# print(invcov[0])\r\n",
        "# np.log(np.linalg.det(shiftedcov[0]))"
      ],
      "execution_count": 28,
      "outputs": []
    },
    {
      "cell_type": "markdown",
      "metadata": {
        "id": "vtfVuZVQuTyL"
      },
      "source": [
        "## Calculation for lda, functions were initially created for each term for ease of understanding and finetuning of logic"
      ]
    },
    {
      "cell_type": "code",
      "metadata": {
        "id": "wfQcVNZlkQvW"
      },
      "source": [
        "# def lda_term1(ele,avg,shiftedcov):\r\n",
        "#   #print('ele ',ele)\r\n",
        "#   #print('avg ',avg)\r\n",
        "#   #print(np.transpose(ele-avg).shape)\r\n",
        "#   e=ele-avg\r\n",
        "#   #print(e)\r\n",
        "#   e=e.reshape(784,1)\r\n",
        "#   term=np.dot(np.transpose(e),np.linalg.inv(shiftedcov))\r\n",
        "#   term=0.5*np.dot(term,(e))\r\n",
        "#   #print('term1: ',term)\r\n",
        "#   return term \r\n",
        "\r\n",
        "# def lda_term2():\r\n",
        "#   term=0.5*784*np.log(2*mt.pi)\r\n",
        "#   #print('term2 done')\r\n",
        "#   return term    \r\n",
        "\r\n",
        "# def lda_term3(shiftedcov):\r\n",
        "#   term=0.5*np.log(np.linalg.det(shiftedcov))\r\n",
        "#   #print('term3 ', term)\r\n",
        "#   return term    \r\n",
        "\r\n",
        "# def lda_term4(prob):\r\n",
        "#   term=np.log(prob)\r\n",
        "#   #print('term4 done')\r\n",
        "#   return term    \r\n",
        "\r\n",
        "def lda(ele,avg,shiftedcov,invcov,logdet,prob):\r\n",
        "  term1=0.5*np.dot(np.dot(np.transpose(ele-avg),invcov),ele-avg)\r\n",
        "  term2=0.5*784*np.log(2*mt.pi)\r\n",
        "  term3=0.5*logdet\r\n",
        "  term4=np.log(prob)\r\n",
        "  value=-term1-term2-term3+term4\r\n",
        "  #print('value done')\r\n",
        "  return value"
      ],
      "execution_count": 29,
      "outputs": []
    },
    {
      "cell_type": "markdown",
      "metadata": {
        "id": "YdCmj4rXum5n"
      },
      "source": [
        "## Using the lda calculated for each class for each test datapoint to determine the max inclination for predicting the output class"
      ]
    },
    {
      "cell_type": "code",
      "metadata": {
        "id": "5toc4W0Bjk_3"
      },
      "source": [
        "y_pred=[]\r\n",
        "\r\n",
        "test_data=test_data.reshape(len(test_data),784)\r\n",
        "\r\n",
        "reshapedavg=[]\r\n",
        "for ele in avg:\r\n",
        "  reshapedavg.append(ele.reshape(784))\r\n",
        "\r\n",
        "#test_data\r\n",
        "for ele in test_data :\r\n",
        "  i=0\r\n",
        "  ldavalue=[]\r\n",
        "  while(i<10):\r\n",
        "    value=lda(ele,reshapedavg[i],shiftedcov[i],invcov[i],logdet[i],probability[i])\r\n",
        "    ldavalue.append(value)\r\n",
        "    i=i+1\r\n",
        "  maxincline=np.max(ldavalue)\r\n",
        "  maxindex=ldavalue.index(maxincline)\r\n",
        "  y_pred.append(maxindex)"
      ],
      "execution_count": 30,
      "outputs": []
    },
    {
      "cell_type": "code",
      "metadata": {
        "id": "5HFirAV6sPh_"
      },
      "source": [
        "i=0\r\n",
        "count=0\r\n",
        "while i<10000:\r\n",
        "  if(y_test[i]==y_pred[i]):\r\n",
        "    count=count+1\r\n",
        "  i=i+1"
      ],
      "execution_count": 32,
      "outputs": []
    },
    {
      "cell_type": "code",
      "metadata": {
        "id": "mgoUWB4PtDQT",
        "colab": {
          "base_uri": "https://localhost:8080/"
        },
        "outputId": "e7ab9df9-120a-4ac2-c234-9830ceaa136c"
      },
      "source": [
        "y_pred"
      ],
      "execution_count": 33,
      "outputs": [
        {
          "output_type": "execute_result",
          "data": {
            "text/plain": [
              "[7,\n",
              " 2,\n",
              " 1,\n",
              " 0,\n",
              " 4,\n",
              " 1,\n",
              " 4,\n",
              " 9,\n",
              " 4,\n",
              " 9,\n",
              " 0,\n",
              " 0,\n",
              " 9,\n",
              " 0,\n",
              " 1,\n",
              " 3,\n",
              " 9,\n",
              " 7,\n",
              " 3,\n",
              " 4,\n",
              " 9,\n",
              " 6,\n",
              " 6,\n",
              " 5,\n",
              " 4,\n",
              " 0,\n",
              " 7,\n",
              " 4,\n",
              " 0,\n",
              " 1,\n",
              " 3,\n",
              " 1,\n",
              " 3,\n",
              " 0,\n",
              " 7,\n",
              " 2,\n",
              " 7,\n",
              " 1,\n",
              " 3,\n",
              " 1,\n",
              " 1,\n",
              " 7,\n",
              " 4,\n",
              " 2,\n",
              " 3,\n",
              " 3,\n",
              " 3,\n",
              " 2,\n",
              " 4,\n",
              " 4,\n",
              " 6,\n",
              " 3,\n",
              " 5,\n",
              " 3,\n",
              " 2,\n",
              " 5,\n",
              " 4,\n",
              " 1,\n",
              " 9,\n",
              " 8,\n",
              " 7,\n",
              " 8,\n",
              " 9,\n",
              " 2,\n",
              " 7,\n",
              " 5,\n",
              " 2,\n",
              " 4,\n",
              " 3,\n",
              " 0,\n",
              " 7,\n",
              " 0,\n",
              " 2,\n",
              " 8,\n",
              " 1,\n",
              " 7,\n",
              " 3,\n",
              " 7,\n",
              " 8,\n",
              " 7,\n",
              " 9,\n",
              " 6,\n",
              " 2,\n",
              " 7,\n",
              " 8,\n",
              " 4,\n",
              " 7,\n",
              " 3,\n",
              " 6,\n",
              " 1,\n",
              " 3,\n",
              " 6,\n",
              " 8,\n",
              " 3,\n",
              " 1,\n",
              " 4,\n",
              " 5,\n",
              " 1,\n",
              " 6,\n",
              " 9,\n",
              " 6,\n",
              " 0,\n",
              " 5,\n",
              " 4,\n",
              " 4,\n",
              " 9,\n",
              " 2,\n",
              " 1,\n",
              " 9,\n",
              " 4,\n",
              " 8,\n",
              " 1,\n",
              " 3,\n",
              " 9,\n",
              " 7,\n",
              " 9,\n",
              " 4,\n",
              " 4,\n",
              " 9,\n",
              " 7,\n",
              " 5,\n",
              " 6,\n",
              " 7,\n",
              " 6,\n",
              " 7,\n",
              " 9,\n",
              " 0,\n",
              " 5,\n",
              " 8,\n",
              " 5,\n",
              " 6,\n",
              " 6,\n",
              " 5,\n",
              " 7,\n",
              " 8,\n",
              " 1,\n",
              " 0,\n",
              " 1,\n",
              " 6,\n",
              " 4,\n",
              " 6,\n",
              " 7,\n",
              " 3,\n",
              " 1,\n",
              " 9,\n",
              " 1,\n",
              " 8,\n",
              " 2,\n",
              " 0,\n",
              " 8,\n",
              " 9,\n",
              " 9,\n",
              " 5,\n",
              " 5,\n",
              " 1,\n",
              " 5,\n",
              " 6,\n",
              " 0,\n",
              " 3,\n",
              " 4,\n",
              " 4,\n",
              " 6,\n",
              " 5,\n",
              " 4,\n",
              " 6,\n",
              " 3,\n",
              " 4,\n",
              " 5,\n",
              " 1,\n",
              " 4,\n",
              " 4,\n",
              " 7,\n",
              " 3,\n",
              " 3,\n",
              " 2,\n",
              " 1,\n",
              " 1,\n",
              " 8,\n",
              " 1,\n",
              " 8,\n",
              " 1,\n",
              " 8,\n",
              " 5,\n",
              " 0,\n",
              " 3,\n",
              " 9,\n",
              " 2,\n",
              " 3,\n",
              " 0,\n",
              " 5,\n",
              " 1,\n",
              " 5,\n",
              " 0,\n",
              " 9,\n",
              " 0,\n",
              " 5,\n",
              " 1,\n",
              " 6,\n",
              " 4,\n",
              " 2,\n",
              " 3,\n",
              " 6,\n",
              " 1,\n",
              " 1,\n",
              " 1,\n",
              " 3,\n",
              " 9,\n",
              " 5,\n",
              " 2,\n",
              " 9,\n",
              " 4,\n",
              " 5,\n",
              " 9,\n",
              " 3,\n",
              " 9,\n",
              " 0,\n",
              " 3,\n",
              " 5,\n",
              " 7,\n",
              " 5,\n",
              " 7,\n",
              " 2,\n",
              " 4,\n",
              " 7,\n",
              " 1,\n",
              " 2,\n",
              " 8,\n",
              " 4,\n",
              " 1,\n",
              " 7,\n",
              " 3,\n",
              " 3,\n",
              " 8,\n",
              " 7,\n",
              " 7,\n",
              " 9,\n",
              " 2,\n",
              " 2,\n",
              " 4,\n",
              " 1,\n",
              " 3,\n",
              " 3,\n",
              " 8,\n",
              " 4,\n",
              " 2,\n",
              " 6,\n",
              " 0,\n",
              " 2,\n",
              " 4,\n",
              " 2,\n",
              " 9,\n",
              " 5,\n",
              " 9,\n",
              " 3,\n",
              " 7,\n",
              " 7,\n",
              " 1,\n",
              " 1,\n",
              " 2,\n",
              " 0,\n",
              " 8,\n",
              " 1,\n",
              " 7,\n",
              " 7,\n",
              " 5,\n",
              " 1,\n",
              " 8,\n",
              " 1,\n",
              " 3,\n",
              " 0,\n",
              " 3,\n",
              " 0,\n",
              " 1,\n",
              " 9,\n",
              " 9,\n",
              " 4,\n",
              " 1,\n",
              " 8,\n",
              " 2,\n",
              " 1,\n",
              " 2,\n",
              " 9,\n",
              " 1,\n",
              " 5,\n",
              " 9,\n",
              " 2,\n",
              " 6,\n",
              " 4,\n",
              " 1,\n",
              " 5,\n",
              " 4,\n",
              " 2,\n",
              " 9,\n",
              " 2,\n",
              " 0,\n",
              " 4,\n",
              " 0,\n",
              " 0,\n",
              " 2,\n",
              " 8,\n",
              " 1,\n",
              " 9,\n",
              " 1,\n",
              " 2,\n",
              " 9,\n",
              " 0,\n",
              " 2,\n",
              " 9,\n",
              " 4,\n",
              " 3,\n",
              " 3,\n",
              " 0,\n",
              " 0,\n",
              " 5,\n",
              " 1,\n",
              " 9,\n",
              " 6,\n",
              " 1,\n",
              " 3,\n",
              " 3,\n",
              " 1,\n",
              " 8,\n",
              " 9,\n",
              " 3,\n",
              " 5,\n",
              " 6,\n",
              " 2,\n",
              " 0,\n",
              " 7,\n",
              " 1,\n",
              " 1,\n",
              " 8,\n",
              " 1,\n",
              " 5,\n",
              " 3,\n",
              " 3,\n",
              " 9,\n",
              " 7,\n",
              " 3,\n",
              " 6,\n",
              " 6,\n",
              " 4,\n",
              " 1,\n",
              " 3,\n",
              " 5,\n",
              " 1,\n",
              " 8,\n",
              " 5,\n",
              " 1,\n",
              " 9,\n",
              " 3,\n",
              " 5,\n",
              " 0,\n",
              " 6,\n",
              " 8,\n",
              " 8,\n",
              " 5,\n",
              " 1,\n",
              " 9,\n",
              " 9,\n",
              " 4,\n",
              " 6,\n",
              " 7,\n",
              " 1,\n",
              " 5,\n",
              " 0,\n",
              " 6,\n",
              " 3,\n",
              " 6,\n",
              " 3,\n",
              " 7,\n",
              " 2,\n",
              " 0,\n",
              " 8,\n",
              " 8,\n",
              " 5,\n",
              " 9,\n",
              " 1,\n",
              " 1,\n",
              " 4,\n",
              " 0,\n",
              " 7,\n",
              " 3,\n",
              " 7,\n",
              " 6,\n",
              " 1,\n",
              " 6,\n",
              " 2,\n",
              " 1,\n",
              " 9,\n",
              " 2,\n",
              " 8,\n",
              " 6,\n",
              " 1,\n",
              " 9,\n",
              " 5,\n",
              " 2,\n",
              " 3,\n",
              " 4,\n",
              " 4,\n",
              " 2,\n",
              " 8,\n",
              " 3,\n",
              " 9,\n",
              " 2,\n",
              " 4,\n",
              " 3,\n",
              " 0,\n",
              " 3,\n",
              " 1,\n",
              " 7,\n",
              " 1,\n",
              " 5,\n",
              " 7,\n",
              " 9,\n",
              " 7,\n",
              " 1,\n",
              " 9,\n",
              " 2,\n",
              " 1,\n",
              " 4,\n",
              " 2,\n",
              " 9,\n",
              " 2,\n",
              " 0,\n",
              " 4,\n",
              " 9,\n",
              " 1,\n",
              " 4,\n",
              " 8,\n",
              " 1,\n",
              " 8,\n",
              " 4,\n",
              " 4,\n",
              " 9,\n",
              " 8,\n",
              " 8,\n",
              " 3,\n",
              " 7,\n",
              " 6,\n",
              " 0,\n",
              " 0,\n",
              " 3,\n",
              " 8,\n",
              " 8,\n",
              " 0,\n",
              " 6,\n",
              " 4,\n",
              " 8,\n",
              " 5,\n",
              " 3,\n",
              " 3,\n",
              " 2,\n",
              " 3,\n",
              " 9,\n",
              " 1,\n",
              " 3,\n",
              " 5,\n",
              " 8,\n",
              " 0,\n",
              " 9,\n",
              " 4,\n",
              " 6,\n",
              " 6,\n",
              " 7,\n",
              " 8,\n",
              " 8,\n",
              " 2,\n",
              " 9,\n",
              " 5,\n",
              " 8,\n",
              " 9,\n",
              " 6,\n",
              " 1,\n",
              " 8,\n",
              " 4,\n",
              " 1,\n",
              " 2,\n",
              " 8,\n",
              " 3,\n",
              " 1,\n",
              " 9,\n",
              " 7,\n",
              " 5,\n",
              " 4,\n",
              " 0,\n",
              " 9,\n",
              " 9,\n",
              " 9,\n",
              " 1,\n",
              " 0,\n",
              " 5,\n",
              " 2,\n",
              " 3,\n",
              " 7,\n",
              " 6,\n",
              " 9,\n",
              " 8,\n",
              " 8,\n",
              " 8,\n",
              " 3,\n",
              " 4,\n",
              " 1,\n",
              " 2,\n",
              " 1,\n",
              " 3,\n",
              " 1,\n",
              " 5,\n",
              " 5,\n",
              " 3,\n",
              " 7,\n",
              " 8,\n",
              " 2,\n",
              " 2,\n",
              " 2,\n",
              " 8,\n",
              " 2,\n",
              " 6,\n",
              " 5,\n",
              " 4,\n",
              " 8,\n",
              " 9,\n",
              " 7,\n",
              " 8,\n",
              " 3,\n",
              " 0,\n",
              " 3,\n",
              " 3,\n",
              " 5,\n",
              " 1,\n",
              " 9,\n",
              " 6,\n",
              " 9,\n",
              " 4,\n",
              " 6,\n",
              " 4,\n",
              " 1,\n",
              " 1,\n",
              " 8,\n",
              " 2,\n",
              " 5,\n",
              " 4,\n",
              " 8,\n",
              " 4,\n",
              " 4,\n",
              " 0,\n",
              " 0,\n",
              " 8,\n",
              " 3,\n",
              " 2,\n",
              " 9,\n",
              " 1,\n",
              " 9,\n",
              " 6,\n",
              " 7,\n",
              " 4,\n",
              " 4,\n",
              " 7,\n",
              " 9,\n",
              " 6,\n",
              " 9,\n",
              " 0,\n",
              " 9,\n",
              " 8,\n",
              " 0,\n",
              " 9,\n",
              " 2,\n",
              " 0,\n",
              " 6,\n",
              " 5,\n",
              " 5,\n",
              " 9,\n",
              " 9,\n",
              " 3,\n",
              " 3,\n",
              " 9,\n",
              " 3,\n",
              " 3,\n",
              " 8,\n",
              " 7,\n",
              " 8,\n",
              " 0,\n",
              " 2,\n",
              " 2,\n",
              " 1,\n",
              " 7,\n",
              " 0,\n",
              " 6,\n",
              " 3,\n",
              " 4,\n",
              " 3,\n",
              " 3,\n",
              " 0,\n",
              " 9,\n",
              " 6,\n",
              " 3,\n",
              " 8,\n",
              " 0,\n",
              " 9,\n",
              " 9,\n",
              " 6,\n",
              " 8,\n",
              " 6,\n",
              " 8,\n",
              " 5,\n",
              " 8,\n",
              " 3,\n",
              " 6,\n",
              " 0,\n",
              " 2,\n",
              " 4,\n",
              " 0,\n",
              " 2,\n",
              " 8,\n",
              " 3,\n",
              " 1,\n",
              " 9,\n",
              " 7,\n",
              " 5,\n",
              " 8,\n",
              " 0,\n",
              " 8,\n",
              " 4,\n",
              " 6,\n",
              " 8,\n",
              " 6,\n",
              " 7,\n",
              " 9,\n",
              " 9,\n",
              " 6,\n",
              " 9,\n",
              " 8,\n",
              " 2,\n",
              " 2,\n",
              " 9,\n",
              " 2,\n",
              " 7,\n",
              " 3,\n",
              " 7,\n",
              " 9,\n",
              " 1,\n",
              " 8,\n",
              " 0,\n",
              " 2,\n",
              " 0,\n",
              " 5,\n",
              " 2,\n",
              " 1,\n",
              " 3,\n",
              " 7,\n",
              " 6,\n",
              " 7,\n",
              " 1,\n",
              " 2,\n",
              " 5,\n",
              " 8,\n",
              " 0,\n",
              " 3,\n",
              " 4,\n",
              " 9,\n",
              " 4,\n",
              " 8,\n",
              " 9,\n",
              " 1,\n",
              " 8,\n",
              " 6,\n",
              " 7,\n",
              " 1,\n",
              " 4,\n",
              " 3,\n",
              " 4,\n",
              " 2,\n",
              " 1,\n",
              " 9,\n",
              " 3,\n",
              " 1,\n",
              " 7,\n",
              " 3,\n",
              " 9,\n",
              " 7,\n",
              " 6,\n",
              " 9,\n",
              " 1,\n",
              " 3,\n",
              " 2,\n",
              " 8,\n",
              " 3,\n",
              " 3,\n",
              " 6,\n",
              " 9,\n",
              " 2,\n",
              " 4,\n",
              " 7,\n",
              " 8,\n",
              " 8,\n",
              " 1,\n",
              " 1,\n",
              " 4,\n",
              " 4,\n",
              " 3,\n",
              " 1,\n",
              " 0,\n",
              " 7,\n",
              " 7,\n",
              " 0,\n",
              " 7,\n",
              " 9,\n",
              " 9,\n",
              " 4,\n",
              " 8,\n",
              " 5,\n",
              " 5,\n",
              " 9,\n",
              " 0,\n",
              " 3,\n",
              " 2,\n",
              " 1,\n",
              " 6,\n",
              " 8,\n",
              " 4,\n",
              " 8,\n",
              " 0,\n",
              " 4,\n",
              " 0,\n",
              " 6,\n",
              " 1,\n",
              " 5,\n",
              " 3,\n",
              " 8,\n",
              " 6,\n",
              " 0,\n",
              " 2,\n",
              " 6,\n",
              " 9,\n",
              " 3,\n",
              " 1,\n",
              " 4,\n",
              " 6,\n",
              " 8,\n",
              " 5,\n",
              " 9,\n",
              " 8,\n",
              " 0,\n",
              " 6,\n",
              " 2,\n",
              " 1,\n",
              " 7,\n",
              " 3,\n",
              " 9,\n",
              " 1,\n",
              " 0,\n",
              " 5,\n",
              " 4,\n",
              " 3,\n",
              " 1,\n",
              " 1,\n",
              " 7,\n",
              " 4,\n",
              " 9,\n",
              " 9,\n",
              " 9,\n",
              " 8,\n",
              " 4,\n",
              " 0,\n",
              " 2,\n",
              " 4,\n",
              " 5,\n",
              " 1,\n",
              " 1,\n",
              " 6,\n",
              " 4,\n",
              " 7,\n",
              " 1,\n",
              " 9,\n",
              " 9,\n",
              " 2,\n",
              " 4,\n",
              " 1,\n",
              " 5,\n",
              " 5,\n",
              " 3,\n",
              " 3,\n",
              " 3,\n",
              " 1,\n",
              " 4,\n",
              " 3,\n",
              " 6,\n",
              " 8,\n",
              " 9,\n",
              " 4,\n",
              " 1,\n",
              " 4,\n",
              " 3,\n",
              " 8,\n",
              " 0,\n",
              " 6,\n",
              " 2,\n",
              " 8,\n",
              " 1,\n",
              " 2,\n",
              " 3,\n",
              " 3,\n",
              " 4,\n",
              " 4,\n",
              " 0,\n",
              " 8,\n",
              " 3,\n",
              " 3,\n",
              " 3,\n",
              " 1,\n",
              " 7,\n",
              " 3,\n",
              " 5,\n",
              " 9,\n",
              " 6,\n",
              " 3,\n",
              " 1,\n",
              " 6,\n",
              " 1,\n",
              " 3,\n",
              " 6,\n",
              " 0,\n",
              " 7,\n",
              " 2,\n",
              " 1,\n",
              " 7,\n",
              " 1,\n",
              " 4,\n",
              " 2,\n",
              " 4,\n",
              " 2,\n",
              " 1,\n",
              " 9,\n",
              " 9,\n",
              " 6,\n",
              " 1,\n",
              " 1,\n",
              " 3,\n",
              " 4,\n",
              " 3,\n",
              " 1,\n",
              " 7,\n",
              " 7,\n",
              " 4,\n",
              " 3,\n",
              " 0,\n",
              " 7,\n",
              " 3,\n",
              " 1,\n",
              " 3,\n",
              " 1,\n",
              " 0,\n",
              " 7,\n",
              " 8,\n",
              " 0,\n",
              " 3,\n",
              " 5,\n",
              " 5,\n",
              " 2,\n",
              " 7,\n",
              " 6,\n",
              " 6,\n",
              " 9,\n",
              " 2,\n",
              " 8,\n",
              " 3,\n",
              " 5,\n",
              " 2,\n",
              " 2,\n",
              " 5,\n",
              " 5,\n",
              " 0,\n",
              " 8,\n",
              " 2,\n",
              " 8,\n",
              " 2,\n",
              " 3,\n",
              " 2,\n",
              " 3,\n",
              " 8,\n",
              " 7,\n",
              " 9,\n",
              " 4,\n",
              " 3,\n",
              " 0,\n",
              " 6,\n",
              " 6,\n",
              " 3,\n",
              " 2,\n",
              " 1,\n",
              " 3,\n",
              " 2,\n",
              " 2,\n",
              " 9,\n",
              " 3,\n",
              " 0,\n",
              " 0,\n",
              " 5,\n",
              " 1,\n",
              " 3,\n",
              " 3,\n",
              " 4,\n",
              " 4,\n",
              " 6,\n",
              " 0,\n",
              " 2,\n",
              " 4,\n",
              " 1,\n",
              " 4,\n",
              " 7,\n",
              " 4,\n",
              " 7,\n",
              " 3,\n",
              " 4,\n",
              " 8,\n",
              " 3,\n",
              " 4,\n",
              " 7,\n",
              " 1,\n",
              " 2,\n",
              " 1,\n",
              " 2,\n",
              " 2,\n",
              " 3,\n",
              " 7,\n",
              " 3,\n",
              " 2,\n",
              " 3,\n",
              " 9,\n",
              " 1,\n",
              " 1,\n",
              " 4,\n",
              " 0,\n",
              " 3,\n",
              " 5,\n",
              " 5,\n",
              " 8,\n",
              " 6,\n",
              " 5,\n",
              " 0,\n",
              " 6,\n",
              " 7,\n",
              " 6,\n",
              " 1,\n",
              " 5,\n",
              " 2,\n",
              " 7,\n",
              " 9,\n",
              " 1,\n",
              " 1,\n",
              " 2,\n",
              " 5,\n",
              " 6,\n",
              " 4,\n",
              " 9,\n",
              " 5,\n",
              " 6,\n",
              " 3,\n",
              " 3,\n",
              " 5,\n",
              " 1,\n",
              " 8,\n",
              " 9,\n",
              " 1,\n",
              " 1,\n",
              " 0,\n",
              " 9,\n",
              " 1,\n",
              " 4,\n",
              " 4,\n",
              " 5,\n",
              " 4,\n",
              " 0,\n",
              " 6,\n",
              " 2,\n",
              " 3,\n",
              " 3,\n",
              " 1,\n",
              " 5,\n",
              " 1,\n",
              " 2,\n",
              " 0,\n",
              " 8,\n",
              " 8,\n",
              " 1,\n",
              " 2,\n",
              " 6,\n",
              " 7,\n",
              " 1,\n",
              " 6,\n",
              " 2,\n",
              " 8,\n",
              " 9,\n",
              " 0,\n",
              " 5,\n",
              " 2,\n",
              " 2,\n",
              " 0,\n",
              " 9,\n",
              " 9,\n",
              " ...]"
            ]
          },
          "metadata": {
            "tags": []
          },
          "execution_count": 33
        }
      ]
    },
    {
      "cell_type": "code",
      "metadata": {
        "colab": {
          "base_uri": "https://localhost:8080/"
        },
        "id": "h-7xjPDbtOsP",
        "outputId": "d9a3ab40-97cd-4df1-8163-bf73729f5e83"
      },
      "source": [
        "y_test[0:10]"
      ],
      "execution_count": 34,
      "outputs": [
        {
          "output_type": "execute_result",
          "data": {
            "text/plain": [
              "array([7, 2, 1, 0, 4, 1, 4, 9, 5, 9], dtype=uint8)"
            ]
          },
          "metadata": {
            "tags": []
          },
          "execution_count": 34
        }
      ]
    },
    {
      "cell_type": "code",
      "metadata": {
        "colab": {
          "base_uri": "https://localhost:8080/"
        },
        "id": "mz45TDqVx2GW",
        "outputId": "c0af5e2a-8747-4001-f86d-f0f33e00f387"
      },
      "source": [
        "count"
      ],
      "execution_count": 35,
      "outputs": [
        {
          "output_type": "execute_result",
          "data": {
            "text/plain": [
              "8129"
            ]
          },
          "metadata": {
            "tags": []
          },
          "execution_count": 35
        }
      ]
    }
  ]
}